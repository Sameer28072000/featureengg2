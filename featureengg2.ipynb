{
 "cells": [
  {
   "cell_type": "markdown",
   "id": "25ce9069-d82b-4b2a-a477-e2558ba281b2",
   "metadata": {},
   "source": [
    "Q1. What is the Filter method in feature selection, and how does it work?"
   ]
  },
  {
   "cell_type": "code",
   "execution_count": null,
   "id": "4b8fa053-5cfe-43ce-bcbc-387683d7e594",
   "metadata": {},
   "outputs": [],
   "source": [
    "Ans:-Filter method measures the relevant attributes with the dependent variable."
   ]
  },
  {
   "cell_type": "markdown",
   "id": "5c5a423f-7395-4766-b6c7-d9b29ffe0afe",
   "metadata": {},
   "source": [
    "Q2. How does the Wrapper method differ from the Filter method in feature selection?"
   ]
  },
  {
   "cell_type": "code",
   "execution_count": null,
   "id": "ddb0238e-f9c3-499d-b1a8-d79fdb1d0fb9",
   "metadata": {},
   "outputs": [],
   "source": [
    "Ans:-\n",
    "Wrapper method------>wrapper method measures the feature actually model train it.\n",
    "Filter method------->Filter method measures the relevant attributes with the dependent variable."
   ]
  },
  {
   "cell_type": "markdown",
   "id": "f4027b30-73ac-45d0-97a9-fe9b228bf920",
   "metadata": {},
   "source": [
    "Q3. What are some common techniques used in Embedded feature selection methods?"
   ]
  },
  {
   "cell_type": "code",
   "execution_count": null,
   "id": "f04e306c-8476-4015-af41-50cc975b68a8",
   "metadata": {},
   "outputs": [],
   "source": [
    "Ans:-\n",
    "lasso regularization(L1)\n",
    "Random Forest"
   ]
  },
  {
   "cell_type": "markdown",
   "id": "268e5bad-2970-4b9f-a795-76e753d44ef3",
   "metadata": {},
   "source": [
    "Q4. What are some drawbacks of using the Filter method for feature selection?"
   ]
  },
  {
   "cell_type": "code",
   "execution_count": null,
   "id": "4297d4c5-3123-4531-9d5b-ee8057a64898",
   "metadata": {},
   "outputs": [],
   "source": [
    "Ans:-Each feature considered independently ignore feature dependently."
   ]
  },
  {
   "cell_type": "markdown",
   "id": "f3961558-e051-4181-acb0-784dfbc37529",
   "metadata": {},
   "source": [
    "Q5. In which situations would you prefer using the Filter method over the Wrapper method for feature\n",
    "selection?"
   ]
  },
  {
   "cell_type": "code",
   "execution_count": null,
   "id": "320c209e-6a36-489b-953d-c1a5ba5f0e71",
   "metadata": {},
   "outputs": [],
   "source": [
    "Ans:-It handle large datasets,quick feature selection & Reduce dimentionally thats why we preffered\n",
    "     filter method over the wrapper method."
   ]
  },
  {
   "cell_type": "markdown",
   "id": "02d1f5b7-b7f1-4ee7-a623-3f27e053ffe0",
   "metadata": {},
   "source": [
    "Q6. In a telecom company, you are working on a project to develop a predictive model for customer churn.\n",
    "You are unsure of which features to include in the model because the dataset contains several different\n",
    "ones. Describe how you would choose the most pertinent attributes for the model using the Filter Method."
   ]
  },
  {
   "cell_type": "code",
   "execution_count": null,
   "id": "0a27c801-6467-44ca-a6e3-55ccd64ccfa9",
   "metadata": {},
   "outputs": [],
   "source": [
    "Ans:-\n",
    "i.Understanding the problem.\n",
    "ii.examine the dataset."
   ]
  },
  {
   "cell_type": "markdown",
   "id": "c005106a-1c63-46d2-81a8-db2530ba4ca1",
   "metadata": {},
   "source": [
    "Q7. You are working on a project to predict the outcome of a soccer match. You have a large dataset with\n",
    "many features, including player statistics and team rankings. Explain how you would use the Embedded\n",
    "method to select the most relevant features for the model."
   ]
  },
  {
   "cell_type": "code",
   "execution_count": null,
   "id": "550aa0ce-d4eb-47ec-b69f-a2d5729c3105",
   "metadata": {},
   "outputs": [],
   "source": [
    "Ans:-\n",
    "i.preprocess the data.\n",
    "ii.train the model.\n",
    "iii.calculate the importance."
   ]
  },
  {
   "cell_type": "markdown",
   "id": "58cff316-1161-4066-8b94-ecf25753c2b5",
   "metadata": {},
   "source": [
    "Q8. You are working on a project to predict the price of a house based on its features, such as size, location,\n",
    "and age. You have a limited number of features, and you want to ensure that you select the most important\n",
    "ones for the model. Explain how you would use the Wrapper method to select the best set of features for the\n",
    "predictor."
   ]
  },
  {
   "cell_type": "code",
   "execution_count": null,
   "id": "df7750f9-6af9-4d5a-97bf-d374a498f260",
   "metadata": {},
   "outputs": [],
   "source": [
    "Ans:-\n",
    "i.select evaluation matrix  (MSE,RMSE & MAE).\n",
    "ii.Perform feature evaluation. "
   ]
  }
 ],
 "metadata": {
  "kernelspec": {
   "display_name": "Python 3 (ipykernel)",
   "language": "python",
   "name": "python3"
  },
  "language_info": {
   "codemirror_mode": {
    "name": "ipython",
    "version": 3
   },
   "file_extension": ".py",
   "mimetype": "text/x-python",
   "name": "python",
   "nbconvert_exporter": "python",
   "pygments_lexer": "ipython3",
   "version": "3.10.8"
  }
 },
 "nbformat": 4,
 "nbformat_minor": 5
}
